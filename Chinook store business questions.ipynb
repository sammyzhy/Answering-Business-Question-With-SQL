{
 "cells": [
  {
   "cell_type": "markdown",
   "metadata": {
    "collapsed": true
   },
   "source": [
    "## Answering Business Questions Using SQL\n",
    "\n",
    "In this project, we're going to practice using our SQL skills to answer business questions. We'll be working with a modified version of a database called Chinook. The Chinook database contains information about a fictional digital music shop - kind of like a mini-iTunes store.\n",
    "\n",
    "The Chinook database contains information about the artists, songs, and albums from the music shop, as well as information on the shop's employees, customers, and the customers purchases. This information is contained in eleven tables. Like with our Factbook database, a schema diagram will help us understand the available columns and the structure of the data. Here's a schema diagram for the Chinook database:\n",
    "![](https://s3.amazonaws.com/dq-content/191/chinook-schema.svg)"
   ]
  },
  {
   "cell_type": "markdown",
   "metadata": {},
   "source": [
    "## Creating Helper Functions\n",
    "\n",
    "Previously, we used the sqlite3.connect() function to create a connection object, and passed that to the pandas.read_sql_query() function. In this project, we'll use a similar approach, with two important changes:\n",
    "\n",
    "   + We'll create some helper functions in python to save some time.\n",
    "   + We'll use a context manager to handle the connection to the SQLite database.\n",
    "\n",
    "Context managers make our life easy by taking care of opening and closing the connection to the database, as well as making sure we don't accidentally make changes to the database if one of our queries has an error."
   ]
  },
  {
   "cell_type": "code",
   "execution_count": 1,
   "metadata": {
    "collapsed": false
   },
   "outputs": [],
   "source": [
    "import sqlite3\n",
    "import pandas as pd\n",
    "import numpy as np\n",
    "import matplotlib.pyplot as plt\n",
    "%matplotlib inline\n",
    "#Create a function that takes a SQL query and returns pandas dataframes of that query\n",
    "def run_query(q):\n",
    "    with sqlite3.connect('chinook.db') as conn:\n",
    "        return pd.read_sql(q, conn)\n",
    "\n",
    "#Create a function that takes a SQL command and executes it using the sqlite module\n",
    "def run_command(c):\n",
    "    with sqlite3.connect('chinook.db') as conn:\n",
    "        #Tell SQLite to autocommit any changes\n",
    "        conn.isolation_level = None\n",
    "        conn.execute(c)\n"
   ]
  },
  {
   "cell_type": "code",
   "execution_count": 2,
   "metadata": {
    "collapsed": false
   },
   "outputs": [
    {
     "data": {
      "text/html": [
       "<div>\n",
       "<style scoped>\n",
       "    .dataframe tbody tr th:only-of-type {\n",
       "        vertical-align: middle;\n",
       "    }\n",
       "\n",
       "    .dataframe tbody tr th {\n",
       "        vertical-align: top;\n",
       "    }\n",
       "\n",
       "    .dataframe thead th {\n",
       "        text-align: right;\n",
       "    }\n",
       "</style>\n",
       "<table border=\"1\" class=\"dataframe\">\n",
       "  <thead>\n",
       "    <tr style=\"text-align: right;\">\n",
       "      <th></th>\n",
       "      <th>name</th>\n",
       "      <th>type</th>\n",
       "    </tr>\n",
       "  </thead>\n",
       "  <tbody>\n",
       "    <tr>\n",
       "      <th>0</th>\n",
       "      <td>album</td>\n",
       "      <td>table</td>\n",
       "    </tr>\n",
       "    <tr>\n",
       "      <th>1</th>\n",
       "      <td>artist</td>\n",
       "      <td>table</td>\n",
       "    </tr>\n",
       "    <tr>\n",
       "      <th>2</th>\n",
       "      <td>customer</td>\n",
       "      <td>table</td>\n",
       "    </tr>\n",
       "    <tr>\n",
       "      <th>3</th>\n",
       "      <td>employee</td>\n",
       "      <td>table</td>\n",
       "    </tr>\n",
       "    <tr>\n",
       "      <th>4</th>\n",
       "      <td>genre</td>\n",
       "      <td>table</td>\n",
       "    </tr>\n",
       "    <tr>\n",
       "      <th>5</th>\n",
       "      <td>invoice</td>\n",
       "      <td>table</td>\n",
       "    </tr>\n",
       "    <tr>\n",
       "      <th>6</th>\n",
       "      <td>invoice_line</td>\n",
       "      <td>table</td>\n",
       "    </tr>\n",
       "    <tr>\n",
       "      <th>7</th>\n",
       "      <td>media_type</td>\n",
       "      <td>table</td>\n",
       "    </tr>\n",
       "    <tr>\n",
       "      <th>8</th>\n",
       "      <td>playlist</td>\n",
       "      <td>table</td>\n",
       "    </tr>\n",
       "    <tr>\n",
       "      <th>9</th>\n",
       "      <td>playlist_track</td>\n",
       "      <td>table</td>\n",
       "    </tr>\n",
       "    <tr>\n",
       "      <th>10</th>\n",
       "      <td>track</td>\n",
       "      <td>table</td>\n",
       "    </tr>\n",
       "    <tr>\n",
       "      <th>11</th>\n",
       "      <td>sales_by_country</td>\n",
       "      <td>view</td>\n",
       "    </tr>\n",
       "  </tbody>\n",
       "</table>\n",
       "</div>"
      ],
      "text/plain": [
       "                name   type\n",
       "0              album  table\n",
       "1             artist  table\n",
       "2           customer  table\n",
       "3           employee  table\n",
       "4              genre  table\n",
       "5            invoice  table\n",
       "6       invoice_line  table\n",
       "7         media_type  table\n",
       "8           playlist  table\n",
       "9     playlist_track  table\n",
       "10             track  table\n",
       "11  sales_by_country   view"
      ]
     },
     "execution_count": 2,
     "metadata": {},
     "output_type": "execute_result"
    }
   ],
   "source": [
    "#Create a function that calls the run_query() function to return a list of all tables and views in the database.\n",
    "def show_tables():\n",
    "    q = '''\n",
    "        SELECT \n",
    "            name,\n",
    "            type\n",
    "        FROM sqlite_master\n",
    "        WHERE type IN (\"table\", \"view\");\n",
    "        '''\n",
    "    return run_query(q)\n",
    "\n",
    "show_tables()"
   ]
  },
  {
   "cell_type": "markdown",
   "metadata": {},
   "source": [
    "## Selecting Albums to Purchase\n",
    "\n",
    "The Chinook record store has just signed a deal with a new record label, and you've been tasked with selecting the first three albums that will be added to the store, from a list of four. All four albums are by artists that don't have any tracks in the store right now - we have the artist names, and the genre of music they produce:\n",
    "\n",
    "| Artist Name          | Genre   |\n",
    "|----------------------|---------|\n",
    "| Regal                | Hip-Hop |\n",
    "| Red Tone             | Punk    |\n",
    "| Meteor and the Girls | Pop     |\n",
    "| Slim Jim Bites       | Blues   |\n",
    "\n",
    "The record label specializes in artists from the USA, and they have given Chinook some money to advertise the new albums in the USA, so we're interested in finding out which genres sell the best in the USA.\n",
    "\n",
    "We'll need to write a query to find out which genres sell the most tracks in the USA, and then create a visualization of that data using pandas."
   ]
  },
  {
   "cell_type": "code",
   "execution_count": 3,
   "metadata": {
    "collapsed": false
   },
   "outputs": [
    {
     "data": {
      "text/html": [
       "<div>\n",
       "<style scoped>\n",
       "    .dataframe tbody tr th:only-of-type {\n",
       "        vertical-align: middle;\n",
       "    }\n",
       "\n",
       "    .dataframe tbody tr th {\n",
       "        vertical-align: top;\n",
       "    }\n",
       "\n",
       "    .dataframe thead th {\n",
       "        text-align: right;\n",
       "    }\n",
       "</style>\n",
       "<table border=\"1\" class=\"dataframe\">\n",
       "  <thead>\n",
       "    <tr style=\"text-align: right;\">\n",
       "      <th></th>\n",
       "      <th>genre</th>\n",
       "      <th>track_sold</th>\n",
       "      <th>percentage</th>\n",
       "    </tr>\n",
       "  </thead>\n",
       "  <tbody>\n",
       "    <tr>\n",
       "      <th>0</th>\n",
       "      <td>Rock</td>\n",
       "      <td>561</td>\n",
       "      <td>0.533777</td>\n",
       "    </tr>\n",
       "    <tr>\n",
       "      <th>1</th>\n",
       "      <td>Alternative &amp; Punk</td>\n",
       "      <td>130</td>\n",
       "      <td>0.123692</td>\n",
       "    </tr>\n",
       "    <tr>\n",
       "      <th>2</th>\n",
       "      <td>Metal</td>\n",
       "      <td>124</td>\n",
       "      <td>0.117983</td>\n",
       "    </tr>\n",
       "    <tr>\n",
       "      <th>3</th>\n",
       "      <td>R&amp;B/Soul</td>\n",
       "      <td>53</td>\n",
       "      <td>0.050428</td>\n",
       "    </tr>\n",
       "    <tr>\n",
       "      <th>4</th>\n",
       "      <td>Blues</td>\n",
       "      <td>36</td>\n",
       "      <td>0.034253</td>\n",
       "    </tr>\n",
       "    <tr>\n",
       "      <th>5</th>\n",
       "      <td>Alternative</td>\n",
       "      <td>35</td>\n",
       "      <td>0.033302</td>\n",
       "    </tr>\n",
       "    <tr>\n",
       "      <th>6</th>\n",
       "      <td>Latin</td>\n",
       "      <td>22</td>\n",
       "      <td>0.020932</td>\n",
       "    </tr>\n",
       "    <tr>\n",
       "      <th>7</th>\n",
       "      <td>Pop</td>\n",
       "      <td>22</td>\n",
       "      <td>0.020932</td>\n",
       "    </tr>\n",
       "    <tr>\n",
       "      <th>8</th>\n",
       "      <td>Hip Hop/Rap</td>\n",
       "      <td>20</td>\n",
       "      <td>0.019029</td>\n",
       "    </tr>\n",
       "    <tr>\n",
       "      <th>9</th>\n",
       "      <td>Jazz</td>\n",
       "      <td>14</td>\n",
       "      <td>0.013321</td>\n",
       "    </tr>\n",
       "  </tbody>\n",
       "</table>\n",
       "</div>"
      ],
      "text/plain": [
       "                genre  track_sold  percentage\n",
       "0                Rock         561    0.533777\n",
       "1  Alternative & Punk         130    0.123692\n",
       "2               Metal         124    0.117983\n",
       "3            R&B/Soul          53    0.050428\n",
       "4               Blues          36    0.034253\n",
       "5         Alternative          35    0.033302\n",
       "6               Latin          22    0.020932\n",
       "7                 Pop          22    0.020932\n",
       "8         Hip Hop/Rap          20    0.019029\n",
       "9                Jazz          14    0.013321"
      ]
     },
     "execution_count": 3,
     "metadata": {},
     "output_type": "execute_result"
    }
   ],
   "source": [
    "q = '''\n",
    "    WITH usa_purchases AS\n",
    "    (SELECT \n",
    "         i.invoice_id,\n",
    "         i.billing_country country,\n",
    "         il.track_id,\n",
    "         il.quantity,\n",
    "         g.name\n",
    "     FROM invoice i\n",
    "     INNER JOIN invoice_line il ON i.invoice_id = il.invoice_id\n",
    "     INNER JOIN track t ON t.track_id = il.track_id\n",
    "     INNER JOIN genre g ON g.genre_id = t.genre_id\n",
    "     WHERE i.billing_country = \"USA\")\n",
    "\n",
    "    SELECT \n",
    "        name genre,\n",
    "        SUM(quantity) track_sold,\n",
    "        CAST(SUM(quantity) as Float)/CAST((SELECT SUM(quantity) FROM usa_purchases) as Float) percentage\n",
    "    FROM usa_purchases\n",
    "    GROUP BY 1\n",
    "    ORDER BY 3 DESC\n",
    "    LIMIT 10;\n",
    "    '''\n",
    "run_query(q)"
   ]
  },
  {
   "cell_type": "code",
   "execution_count": 4,
   "metadata": {
    "collapsed": false
   },
   "outputs": [
    {
     "data": {
      "image/png": "[encoded data removed]",
      "text/plain": [
       "<matplotlib.figure.Figure at 0x7f307f334cc0>"
      ]
     },
     "metadata": {},
     "output_type": "display_data"
    }
   ],
   "source": [
    "genre_sold_result = run_query(q)\n",
    "genre_sold_result.set_index(\"genre\", inplace = True, drop = True)\n",
    "genre_sold_result[\"track_sold\"].plot.bar()\n",
    "plt.title(\"Top 10 Genres sold in USA\")\n",
    "for i, label in enumerate(list(genre_sold_result.index)):\n",
    "    score = genre_sold_result.loc[label, \"track_sold\"]\n",
    "    label = (genre_sold_result.loc[label, \"percentage\"] * 100\n",
    "            ).astype(int).astype(str) + \"%\"\n",
    "    plt.annotate(str(label), (i - 0.15, score + 10))\n",
    "plt.show()"
   ]
  },
  {
   "cell_type": "markdown",
   "metadata": {},
   "source": [
    "According to our results, the most popular tracks sold in USA is Rock genre, which are about half of the total amount. Among the four album options, we recommend adding Red Tone(Punk), Slim Jim Bites(Blues) and Meteor and the Girls(Pop) to the store."
   ]
  },
  {
   "cell_type": "markdown",
   "metadata": {},
   "source": [
    "## Analyzing Employee Sales Performance\n",
    "\n",
    "Each customer for the Chinook store gets assigned to a sales support agent within the company when they first make a purchase. Next, we'll analyze the purchases of customers belonging to each employee to see if any sales support agent is performing either better or worse than the others. The number of customers assigned to each employee should be an extra attribute as for their performance."
   ]
  },
  {
   "cell_type": "code",
   "execution_count": 5,
   "metadata": {
    "collapsed": false
   },
   "outputs": [
    {
     "data": {
      "text/html": [
       "<div>\n",
       "<style scoped>\n",
       "    .dataframe tbody tr th:only-of-type {\n",
       "        vertical-align: middle;\n",
       "    }\n",
       "\n",
       "    .dataframe tbody tr th {\n",
       "        vertical-align: top;\n",
       "    }\n",
       "\n",
       "    .dataframe thead th {\n",
       "        text-align: right;\n",
       "    }\n",
       "</style>\n",
       "<table border=\"1\" class=\"dataframe\">\n",
       "  <thead>\n",
       "    <tr style=\"text-align: right;\">\n",
       "      <th></th>\n",
       "      <th>title</th>\n",
       "    </tr>\n",
       "  </thead>\n",
       "  <tbody>\n",
       "    <tr>\n",
       "      <th>0</th>\n",
       "      <td>General Manager</td>\n",
       "    </tr>\n",
       "    <tr>\n",
       "      <th>1</th>\n",
       "      <td>Sales Manager</td>\n",
       "    </tr>\n",
       "    <tr>\n",
       "      <th>2</th>\n",
       "      <td>Sales Support Agent</td>\n",
       "    </tr>\n",
       "    <tr>\n",
       "      <th>3</th>\n",
       "      <td>IT Manager</td>\n",
       "    </tr>\n",
       "    <tr>\n",
       "      <th>4</th>\n",
       "      <td>IT Staff</td>\n",
       "    </tr>\n",
       "  </tbody>\n",
       "</table>\n",
       "</div>"
      ],
      "text/plain": [
       "                 title\n",
       "0      General Manager\n",
       "1        Sales Manager\n",
       "2  Sales Support Agent\n",
       "3           IT Manager\n",
       "4             IT Staff"
      ]
     },
     "execution_count": 5,
     "metadata": {},
     "output_type": "execute_result"
    }
   ],
   "source": [
    "q = '''\n",
    "    SELECT DISTINCT(title) FROM employee;\n",
    "    '''\n",
    "run_query(q)"
   ]
  },
  {
   "cell_type": "code",
   "execution_count": 6,
   "metadata": {
    "collapsed": false
   },
   "outputs": [
    {
     "data": {
      "text/html": [
       "<div>\n",
       "<style scoped>\n",
       "    .dataframe tbody tr th:only-of-type {\n",
       "        vertical-align: middle;\n",
       "    }\n",
       "\n",
       "    .dataframe tbody tr th {\n",
       "        vertical-align: top;\n",
       "    }\n",
       "\n",
       "    .dataframe thead th {\n",
       "        text-align: right;\n",
       "    }\n",
       "</style>\n",
       "<table border=\"1\" class=\"dataframe\">\n",
       "  <thead>\n",
       "    <tr style=\"text-align: right;\">\n",
       "      <th></th>\n",
       "      <th>employee_name</th>\n",
       "      <th>title</th>\n",
       "      <th>num_customers_served</th>\n",
       "      <th>total_money_sold</th>\n",
       "    </tr>\n",
       "  </thead>\n",
       "  <tbody>\n",
       "    <tr>\n",
       "      <th>0</th>\n",
       "      <td>Jane Peacock</td>\n",
       "      <td>Sales Support Agent</td>\n",
       "      <td>212</td>\n",
       "      <td>1731.51</td>\n",
       "    </tr>\n",
       "    <tr>\n",
       "      <th>1</th>\n",
       "      <td>Margaret Park</td>\n",
       "      <td>Sales Support Agent</td>\n",
       "      <td>214</td>\n",
       "      <td>1584.00</td>\n",
       "    </tr>\n",
       "    <tr>\n",
       "      <th>2</th>\n",
       "      <td>Steve Johnson</td>\n",
       "      <td>Sales Support Agent</td>\n",
       "      <td>188</td>\n",
       "      <td>1393.92</td>\n",
       "    </tr>\n",
       "  </tbody>\n",
       "</table>\n",
       "</div>"
      ],
      "text/plain": [
       "   employee_name                title  num_customers_served  total_money_sold\n",
       "0   Jane Peacock  Sales Support Agent                   212           1731.51\n",
       "1  Margaret Park  Sales Support Agent                   214           1584.00\n",
       "2  Steve Johnson  Sales Support Agent                   188           1393.92"
      ]
     },
     "execution_count": 6,
     "metadata": {},
     "output_type": "execute_result"
    }
   ],
   "source": [
    "employee_performance = '''\n",
    "WITH employee_sales_total AS\n",
    "    (\n",
    "    SELECT \n",
    "        e.employee_id,\n",
    "        e.first_name,\n",
    "        e.last_name,\n",
    "        e.title,\n",
    "        c.customer_id,\n",
    "        i.total\n",
    "    FROM employee e\n",
    "    INNER JOIN customer c ON e.employee_id = c.support_rep_id\n",
    "    INNER JOIN invoice i ON i.customer_id = c.customer_id\n",
    "    )\n",
    "    \n",
    "SELECT \n",
    "    first_name || \" \"|| last_name employee_name,\n",
    "    title,\n",
    "    COUNT(customer_id) num_customers_served,\n",
    "    SUM(total) total_money_sold    \n",
    "FROM employee_sales_total\n",
    "GROUP BY 1\n",
    "ORDER BY 4 DESC;\n",
    "'''\n",
    "run_query(employee_performance)\n"
   ]
  },
  {
   "cell_type": "code",
   "execution_count": 7,
   "metadata": {
    "collapsed": false
   },
   "outputs": [
    {
     "data": {
      "text/plain": [
       "<matplotlib.text.Text at 0x7f307d1d8ef0>"
      ]
     },
     "execution_count": 7,
     "metadata": {},
     "output_type": "execute_result"
    },
    {
     "data": {
      "image/png": "[encoded data removed]",
      "text/plain": [
       "<matplotlib.figure.Figure at 0x7f307d245e48>"
      ]
     },
     "metadata": {},
     "output_type": "display_data"
    }
   ],
   "source": [
    "#Create a plot of the dataframe to visualize the result\n",
    "employee_perf = run_query(employee_performance)\n",
    "employee_perf.set_index(\"employee_name\", inplace = True, drop = True)\n",
    "employee_perf[\"total_money_sold\"].plot.bar()\n",
    "plt.title(\"Total money sold\")"
   ]
  },
  {
   "cell_type": "code",
   "execution_count": 8,
   "metadata": {
    "collapsed": false
   },
   "outputs": [
    {
     "data": {
      "text/plain": [
       "<matplotlib.text.Text at 0x7f307d14c1d0>"
      ]
     },
     "execution_count": 8,
     "metadata": {},
     "output_type": "execute_result"
    },
    {
     "data": {
      "image/png": "[encoded data removed]",
      "text/plain": [
       "<matplotlib.figure.Figure at 0x7f307d2b8940>"
      ]
     },
     "metadata": {},
     "output_type": "display_data"
    }
   ],
   "source": [
    "employee_perf[\"num_customers_served\"].plot.bar()\n",
    "plt.title(\"Number of customers served\")"
   ]
  },
  {
   "cell_type": "markdown",
   "metadata": {},
   "source": [
    "It shows that Jane Peacock made more contribution to the company's whole sales than the others, while Jane served about the same amount of the customers with the second winner, Margaret Park."
   ]
  },
  {
   "cell_type": "markdown",
   "metadata": {},
   "source": [
    "## Analyzing Sales by Country\n",
    "\n",
    "Our next task is to analyze the sales data for customers from each different country. We will use the country value from the customers table, but not the country from the billing address in the invoice table.\n",
    "\n",
    "For each country, followings will be calculated:\n",
    "\n",
    "   + total number of customers\n",
    "   + total value of sales\n",
    "   + average value of sales per customer\n",
    "   + average order value\n",
    "\n",
    "Because there are a number of countries with only one customer, we need to group these customers as \"Other\" in our analysis. "
   ]
  },
  {
   "cell_type": "code",
   "execution_count": 9,
   "metadata": {
    "collapsed": false,
    "scrolled": true
   },
   "outputs": [
    {
     "data": {
      "text/html": [
       "<div>\n",
       "<style scoped>\n",
       "    .dataframe tbody tr th:only-of-type {\n",
       "        vertical-align: middle;\n",
       "    }\n",
       "\n",
       "    .dataframe tbody tr th {\n",
       "        vertical-align: top;\n",
       "    }\n",
       "\n",
       "    .dataframe thead th {\n",
       "        text-align: right;\n",
       "    }\n",
       "</style>\n",
       "<table border=\"1\" class=\"dataframe\">\n",
       "  <thead>\n",
       "    <tr style=\"text-align: right;\">\n",
       "      <th></th>\n",
       "      <th>country</th>\n",
       "      <th>count_customers</th>\n",
       "      <th>total_value_sold</th>\n",
       "      <th>avg_value_per_customer</th>\n",
       "      <th>avg_order_value</th>\n",
       "    </tr>\n",
       "  </thead>\n",
       "  <tbody>\n",
       "    <tr>\n",
       "      <th>0</th>\n",
       "      <td>USA</td>\n",
       "      <td>13</td>\n",
       "      <td>1040.49</td>\n",
       "      <td>80.037692</td>\n",
       "      <td>7.942672</td>\n",
       "    </tr>\n",
       "    <tr>\n",
       "      <th>1</th>\n",
       "      <td>Canada</td>\n",
       "      <td>8</td>\n",
       "      <td>535.59</td>\n",
       "      <td>66.948750</td>\n",
       "      <td>7.047237</td>\n",
       "    </tr>\n",
       "    <tr>\n",
       "      <th>2</th>\n",
       "      <td>Brazil</td>\n",
       "      <td>5</td>\n",
       "      <td>427.68</td>\n",
       "      <td>85.536000</td>\n",
       "      <td>7.011148</td>\n",
       "    </tr>\n",
       "    <tr>\n",
       "      <th>3</th>\n",
       "      <td>France</td>\n",
       "      <td>5</td>\n",
       "      <td>389.07</td>\n",
       "      <td>77.814000</td>\n",
       "      <td>7.781400</td>\n",
       "    </tr>\n",
       "    <tr>\n",
       "      <th>4</th>\n",
       "      <td>Germany</td>\n",
       "      <td>4</td>\n",
       "      <td>334.62</td>\n",
       "      <td>83.655000</td>\n",
       "      <td>8.161463</td>\n",
       "    </tr>\n",
       "    <tr>\n",
       "      <th>5</th>\n",
       "      <td>Czech Republic</td>\n",
       "      <td>2</td>\n",
       "      <td>273.24</td>\n",
       "      <td>136.620000</td>\n",
       "      <td>9.108000</td>\n",
       "    </tr>\n",
       "    <tr>\n",
       "      <th>6</th>\n",
       "      <td>United Kingdom</td>\n",
       "      <td>3</td>\n",
       "      <td>245.52</td>\n",
       "      <td>81.840000</td>\n",
       "      <td>8.768571</td>\n",
       "    </tr>\n",
       "    <tr>\n",
       "      <th>7</th>\n",
       "      <td>Portugal</td>\n",
       "      <td>2</td>\n",
       "      <td>185.13</td>\n",
       "      <td>92.565000</td>\n",
       "      <td>6.383793</td>\n",
       "    </tr>\n",
       "    <tr>\n",
       "      <th>8</th>\n",
       "      <td>India</td>\n",
       "      <td>2</td>\n",
       "      <td>183.15</td>\n",
       "      <td>91.575000</td>\n",
       "      <td>8.721429</td>\n",
       "    </tr>\n",
       "    <tr>\n",
       "      <th>9</th>\n",
       "      <td>Other</td>\n",
       "      <td>15</td>\n",
       "      <td>1094.94</td>\n",
       "      <td>72.996000</td>\n",
       "      <td>7.448571</td>\n",
       "    </tr>\n",
       "  </tbody>\n",
       "</table>\n",
       "</div>"
      ],
      "text/plain": [
       "          country  count_customers  total_value_sold  avg_value_per_customer  \\\n",
       "0             USA               13           1040.49               80.037692   \n",
       "1          Canada                8            535.59               66.948750   \n",
       "2          Brazil                5            427.68               85.536000   \n",
       "3          France                5            389.07               77.814000   \n",
       "4         Germany                4            334.62               83.655000   \n",
       "5  Czech Republic                2            273.24              136.620000   \n",
       "6  United Kingdom                3            245.52               81.840000   \n",
       "7        Portugal                2            185.13               92.565000   \n",
       "8           India                2            183.15               91.575000   \n",
       "9           Other               15           1094.94               72.996000   \n",
       "\n",
       "   avg_order_value  \n",
       "0         7.942672  \n",
       "1         7.047237  \n",
       "2         7.011148  \n",
       "3         7.781400  \n",
       "4         8.161463  \n",
       "5         9.108000  \n",
       "6         8.768571  \n",
       "7         6.383793  \n",
       "8         8.721429  \n",
       "9         7.448571  "
      ]
     },
     "execution_count": 9,
     "metadata": {},
     "output_type": "execute_result"
    }
   ],
   "source": [
    "sales_by_country ='''\n",
    "WITH\n",
    "    customer_by_country AS\n",
    "    (SELECT\n",
    "         country,\n",
    "         COUNT(DISTINCT customer_id) count_customer\n",
    "     FROM customer\n",
    "     GROUP BY country\n",
    "     ),\n",
    "    sales_by_country AS\n",
    "        (SELECT \n",
    "             c.customer_id,\n",
    "             i.invoice_id,\n",
    "             i.total,\n",
    "             CASE \n",
    "                 WHEN cbc.count_customer = 1 THEN 'Other'\n",
    "                 ELSE c.country\n",
    "                 END \n",
    "                 AS country\n",
    "         FROM customer c\n",
    "         INNER JOIN customer_by_country cbc ON c.country = cbc.country\n",
    "         INNER JOIN invoice i ON i.customer_id = c.customer_id\n",
    "         ),\n",
    "    aggeragate_sales AS\n",
    "       (\n",
    "        SELECT\n",
    "            customer_id,\n",
    "            COUNT(DISTINCT customer_id) count_customers,\n",
    "            COUNT(invoice_id) count_transactions, \n",
    "            SUM(total) total_value_sold,\n",
    "            country\n",
    "         FROM sales_by_country\n",
    "         GROUP BY country\n",
    "         ),\n",
    "     sort_aggeragate_sales AS\n",
    "         (\n",
    "          SELECT\n",
    "              country,\n",
    "              count_customers,\n",
    "              total_value_sold,\n",
    "              total_value_sold/CAST(count_customers as Float) avg_value_per_customer,\n",
    "              total_value_sold/CAST(count_transactions as Float) avg_order_value,\n",
    "              CASE\n",
    "                  WHEN country = 'Other' THEN 0\n",
    "                  ELSE 1\n",
    "                  END\n",
    "                  AS sort\n",
    "              FROM aggeragate_sales\n",
    "              GROUP BY 1\n",
    "              ORDER BY 3 DESC\n",
    "            )\n",
    "\n",
    "SELECT \n",
    "    country,\n",
    "    count_customers,\n",
    "    total_value_sold,\n",
    "    avg_value_per_customer,\n",
    "    avg_order_value\n",
    "FROM sort_aggeragate_sales\n",
    "ORDER BY sort DESC;\n",
    "\n",
    "'''\n",
    "\n",
    "run_query(sales_by_country)       "
   ]
  },
  {
   "cell_type": "markdown",
   "metadata": {},
   "source": [
    "## Visualizing Sales by Country\n",
    "\n",
    "Now that we have our data, we are able to create a series of visualizations which communicate our findings, and then make recommendations on which countries may have potential for growth, so the Chinook marketing team can create some new advertising campaigns.\n",
    "\n",
    "When we're working with data that has many dimensions, it can be tempting to try and communicate every dimension in a single plot. This often results in complex and hard to read visualizations. Instead of this, we should create different plots for each dimension.\n"
   ]
  },
  {
   "cell_type": "code",
   "execution_count": 10,
   "metadata": {
    "collapsed": false
   },
   "outputs": [],
   "source": [
    "sale_by_country = run_query(sales_by_country)"
   ]
  },
  {
   "cell_type": "code",
   "execution_count": 11,
   "metadata": {
    "collapsed": false
   },
   "outputs": [
    {
     "data": {
      "image/png": "[encoded data removed]",
      "text/plain": [
       "<matplotlib.figure.Figure at 0x7f307d146b70>"
      ]
     },
     "metadata": {},
     "output_type": "display_data"
    }
   ],
   "source": [
    "sale_by_country.set_index('country', inplace = True, drop = True)\n",
    "colors = [plt.cm.Accent(i) for i in np.linspace(0, 1, sale_by_country.shape[0])]\n",
    "fig, axes = plt.subplots(2, 2, figsize=(9, 10))\n",
    "ax1, ax2, ax3, ax4 = axes.flatten()\n",
    "plt.subplots_adjust(hspace = 0.55)\n",
    "\n",
    "#top left\n",
    "customers_breakdown = sale_by_country['count_customers']\n",
    "customers_breakdown.plot.bar(ax= ax1,\n",
    "                             color = colors, \n",
    "                             title = 'Customer Number Breakdown')\n",
    "ax1.set_xlabel(\"\")\n",
    "ax1.spines['top'].set_visible(False)\n",
    "ax1.spines['right'].set_visible(False)\n",
    "ax1.tick_params(top = 'off', right = 'off', bottom = 'off', left = 'off')\n",
    "\n",
    "#top right\n",
    "total_value_sold = sale_by_country['total_value_sold']\n",
    "total_value_sold.plot.pie(ax= ax2,\n",
    "                          colormap = plt.cm.Accent,\n",
    "                          title = 'Total Value Breakdown',\n",
    "                          counterclock = False,\n",
    "                          startangle = -90,\n",
    "                          fontsize = 8,\n",
    "                          wedgeprops={'linewidth':0})\n",
    "ax2.set_ylabel(\"\")\n",
    "\n",
    "#bottom left\n",
    "avg_value_per_customer = sale_by_country['avg_value_per_customer'][:9] \n",
    "avg_value_per_customer.plot.bar(ax = ax3,\n",
    "                                color = colors,\n",
    "                                title = 'Average Value per Customer')\n",
    "ax3.spines['top'].set_visible(False)\n",
    "ax3.spines['right'].set_visible(False)\n",
    "ax3.tick_params(top = 'off', right = 'off', bottom = 'off', left = 'off')\n",
    "ax3.set_xlabel(\"\")\n",
    "\n",
    "#bottome right\n",
    "avg_order_value = sale_by_country['avg_order_value'][:9]\n",
    "avg_order_value.plot.bar(ax = ax4,\n",
    "                         color = colors,\n",
    "                         title = 'Average Value per Order')\n",
    "ax4.spines['top'].set_visible(False)\n",
    "ax4.spines['right'].set_visible(False)\n",
    "ax4.tick_params(top = 'off', right = 'off', bottom = 'off', left = 'off')\n",
    "ax4.set_xlabel(\"\")\n",
    "\n",
    "\n",
    "plt.show()"
   ]
  },
  {
   "cell_type": "markdown",
   "metadata": {
    "collapsed": false
   },
   "source": [
    "From the above plots, we can tell that more USA customers would like to spent more money on chinook store. While fewer customers and less benefits are from Czech Republic, Unitied Kingdom, Portugal and India. As for individual customers, those from Czech Republic made more purchases than customers from other countries. It seems that Czech Republic, Unitied Kingdom, Portugal and India have potentiall for market growth. However, considering the small size of our current sample, it's better to run relatively small campaigns in these countries to collect more data to verify the trends."
   ]
  },
  {
   "cell_type": "markdown",
   "metadata": {},
   "source": [
    "## Albums vs Individual Tracks\n",
    "\n",
    "The Chinook store is setup in a way that allows customer to make purchases in one of the two ways:\n",
    "\n",
    "   + purchase a whole album\n",
    "   + purchase a collection of one or more individual tracks.\n",
    "\n",
    "The store does not let customers purchase a whole album, and then add individual tracks to that same purchase (unless they do that by choosing each track manually). When customers purchase albums they are charged the same price as if they had purchased each of those tracks separately.\n",
    "\n",
    "Management are currently considering changing their purchasing strategy to save money. The strategy they are considering is to purchase only the most popular tracks from each album from record companies, instead of purchasing every track from an album.\n",
    "\n",
    "We have been asked to find out what percentage of purchases are individual tracks vs whole albums, so that management can use this data to understand the effect this decision might have on overall revenue.\n",
    "\n",
    "It is very common when we are performing an analysis to have 'edge cases' which prevent us from getting a 100% accurate answer to our question. In this instance, we have two edge cases to consider:\n",
    "\n",
    "   + Albums that have only one or two tracks are likely to be purchased by customers as part of a collection of individual tracks.\n",
    "   + Customers may decide to manually select every track from an album, and then add a few individual tracks from other albums to their purchase.\n",
    "\n",
    "In the first case, since our analysis is concerned with maximizing revenue we can safely ignore albums consisting of only a few tracks. The company has previously done analysis to confirm that the second case does not happen often, so we can ignore this case also.\n",
    "\n",
    "In order to answer the question, we're going to have to identify whether each invoice has all the tracks from an album. We can do this by getting the list of tracks from an invoice and comparing it to the list of tracks from an album. We can find the album to compare the purchase to by looking up the album that one of the purchased tracks belongs to. It doesn't matter which track we pick, since if it's an album purchase, that album will be the same for all tracks."
   ]
  },
  {
   "cell_type": "code",
   "execution_count": 12,
   "metadata": {
    "collapsed": false
   },
   "outputs": [
    {
     "data": {
      "text/html": [
       "<div>\n",
       "<style scoped>\n",
       "    .dataframe tbody tr th:only-of-type {\n",
       "        vertical-align: middle;\n",
       "    }\n",
       "\n",
       "    .dataframe tbody tr th {\n",
       "        vertical-align: top;\n",
       "    }\n",
       "\n",
       "    .dataframe thead th {\n",
       "        text-align: right;\n",
       "    }\n",
       "</style>\n",
       "<table border=\"1\" class=\"dataframe\">\n",
       "  <thead>\n",
       "    <tr style=\"text-align: right;\">\n",
       "      <th></th>\n",
       "      <th>purchase_property</th>\n",
       "      <th>number_of_invoices</th>\n",
       "      <th>percentage</th>\n",
       "    </tr>\n",
       "  </thead>\n",
       "  <tbody>\n",
       "    <tr>\n",
       "      <th>0</th>\n",
       "      <td>album</td>\n",
       "      <td>114</td>\n",
       "      <td>0.185668</td>\n",
       "    </tr>\n",
       "    <tr>\n",
       "      <th>1</th>\n",
       "      <td>individual tracks</td>\n",
       "      <td>500</td>\n",
       "      <td>0.814332</td>\n",
       "    </tr>\n",
       "  </tbody>\n",
       "</table>\n",
       "</div>"
      ],
      "text/plain": [
       "   purchase_property  number_of_invoices  percentage\n",
       "0              album                 114    0.185668\n",
       "1  individual tracks                 500    0.814332"
      ]
     },
     "execution_count": 12,
     "metadata": {},
     "output_type": "execute_result"
    }
   ],
   "source": [
    "q1 = '''\n",
    "WITH\n",
    "    first_track_inf AS\n",
    "    (SELECT \n",
    "         invoice_id,\n",
    "         MIN(track_id) first_track_id\n",
    "     FROM invoice_line \n",
    "     GROUP BY 1\n",
    "     )\n",
    "\n",
    "SELECT \n",
    "    purchase_property,\n",
    "    COUNT(invoice_id) number_of_invoices,\n",
    "    CAST(COUNT(invoice_id) as Float)/CAST((SELECT COUNT(*) FROM invoice) as Float) percentage\n",
    "FROM\n",
    "    (SELECT\n",
    "         fti.*, \n",
    "         CASE\n",
    "             WHEN\n",
    "                (SELECT t1.track_id FROM track t1\n",
    "                 WHERE t1.album_id = (SELECT t2.album_id FROM track t2\n",
    "                                      WHERE t2.track_id = fti.first_track_id)\n",
    "                 EXCEPT\n",
    "                 SELECT il.track_id FROM invoice_line il\n",
    "                 WHERE il.invoice_id = fti.invoice_id\n",
    "                 ) IS NULL\n",
    "                 \n",
    "                 AND\n",
    "                 \n",
    "                 (SELECT il.track_id FROM invoice_line il\n",
    "                  WHERE il.invoice_id = fti.invoice_id\n",
    "                  EXCEPT\n",
    "                  SELECT t1.track_id FROM track t1\n",
    "                  WHERE t1.album_id = (SELECT t2.album_id FROM track t2\n",
    "                                       WHERE t2.track_id = fti.first_track_id)\n",
    "                  ) IS NULL\n",
    "              THEN \"album\"\n",
    "              ELSE \"individual tracks\"\n",
    "              END\n",
    "              AS purchase_property\n",
    "    FROM first_track_inf fti  \n",
    "        )\n",
    "GROUP BY 1;\n",
    "'''\n",
    "run_query(q1)\n"
   ]
  },
  {
   "cell_type": "markdown",
   "metadata": {},
   "source": [
    "About 19% of the purchases regard the whole albums. So we recommend the Chinook store continuing to buy full albums from record companies. Otherwise, the store will lose around 20% of the overall revenue from the whole album purchases."
   ]
  }
 ],
 "metadata": {
  "kernelspec": {
   "display_name": "Python 3",
   "language": "python",
   "name": "python3"
  },
  "language_info": {
   "codemirror_mode": {
    "name": "ipython",
    "version": 3
   },
   "file_extension": ".py",
   "mimetype": "text/x-python",
   "name": "python",
   "nbconvert_exporter": "python",
   "pygments_lexer": "ipython3",
   "version": "3.4.3"
  }
 },
 "nbformat": 4,
 "nbformat_minor": 2
}
